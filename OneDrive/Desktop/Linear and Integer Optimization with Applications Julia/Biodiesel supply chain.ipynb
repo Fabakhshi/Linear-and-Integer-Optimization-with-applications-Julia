{
 "cells": [
  {
   "cell_type": "markdown",
   "metadata": {},
   "source": [
    "Introduction:  \n",
    "\n",
    "The process of creating biodiesel is divided into multiple sections. Firstly, there is an extraction phase where different oil is extracted from different types of seeds with the following data in table below:"
   ]
  },
  {
   "cell_type": "code",
   "execution_count": 49,
   "metadata": {},
   "outputs": [
    {
     "data": {
      "text/html": [
       "<div><div style = \"float: left;\"><span>3×4 DataFrame</span></div><div style = \"clear: both;\"></div></div><div class = \"data-frame\" style = \"overflow-x: scroll;\"><table class = \"data-frame\" style = \"margin-bottom: 6px;\"><thead><tr class = \"header\"><th class = \"rowNumber\" style = \"font-weight: bold; text-align: right;\">Row</th><th style = \"text-align: left;\">Crop</th><th style = \"text-align: left;\">Yield [t/ha]</th><th style = \"text-align: left;\">Water demand [Ml/ha]</th><th style = \"text-align: left;\">Oil content [l/kg]</th></tr><tr class = \"subheader headerLastRow\"><th class = \"rowNumber\" style = \"font-weight: bold; text-align: right;\"></th><th title = \"String\" style = \"text-align: left;\">String</th><th title = \"Float64\" style = \"text-align: left;\">Float64</th><th title = \"Float64\" style = \"text-align: left;\">Float64</th><th title = \"Float64\" style = \"text-align: left;\">Float64</th></tr></thead><tbody><tr><td class = \"rowNumber\" style = \"font-weight: bold; text-align: right;\">1</td><td style = \"text-align: left;\">Soybeans</td><td style = \"text-align: right;\">2.6</td><td style = \"text-align: right;\">5.0</td><td style = \"text-align: right;\">0.178</td></tr><tr><td class = \"rowNumber\" style = \"font-weight: bold; text-align: right;\">2</td><td style = \"text-align: left;\">Sunflower seeds</td><td style = \"text-align: right;\">1.4</td><td style = \"text-align: right;\">4.2</td><td style = \"text-align: right;\">0.216</td></tr><tr><td class = \"rowNumber\" style = \"font-weight: bold; text-align: right;\">3</td><td style = \"text-align: left;\">Cotton seeds</td><td style = \"text-align: right;\">0.9</td><td style = \"text-align: right;\">1.0</td><td style = \"text-align: right;\">0.433</td></tr></tbody></table></div>"
      ],
      "text/latex": [
       "\\begin{tabular}{r|cccc}\n",
       "\t& Crop & Yield [t/ha] & Water demand [Ml/ha] & Oil content [l/kg]\\\\\n",
       "\t\\hline\n",
       "\t& String & Float64 & Float64 & Float64\\\\\n",
       "\t\\hline\n",
       "\t1 & Soybeans & 2.6 & 5.0 & 0.178 \\\\\n",
       "\t2 & Sunflower seeds & 1.4 & 4.2 & 0.216 \\\\\n",
       "\t3 & Cotton seeds & 0.9 & 1.0 & 0.433 \\\\\n",
       "\\end{tabular}\n"
      ],
      "text/plain": [
       "\u001b[1m3×4 DataFrame\u001b[0m\n",
       "\u001b[1m Row \u001b[0m│\u001b[1m Crop            \u001b[0m\u001b[1m Yield [t/ha] \u001b[0m\u001b[1m Water demand [Ml/ha] \u001b[0m\u001b[1m Oil content [l/kg]\u001b[0m ⋯\n",
       "     │\u001b[90m String          \u001b[0m\u001b[90m Float64      \u001b[0m\u001b[90m Float64              \u001b[0m\u001b[90m Float64           \u001b[0m ⋯\n",
       "─────┼──────────────────────────────────────────────────────────────────────────\n",
       "   1 │ Soybeans                  2.6                   5.0               0.178 ⋯\n",
       "   2 │ Sunflower seeds           1.4                   4.2               0.216\n",
       "   3 │ Cotton seeds              0.9                   1.0               0.433"
      ]
     },
     "metadata": {},
     "output_type": "display_data"
    }
   ],
   "source": [
    "using DataFrames\n",
    "\n",
    "# Creating an empty DataFrame with quoted column names\n",
    "df1 = DataFrame(\n",
    "    \"Crop\" => String[],\n",
    "    \"Yield [t/ha]\" => Float64[],\n",
    "    \"Water demand [Ml/ha]\" => Float64[],\n",
    "    \"Oil content [l/kg]\" => Float64[]\n",
    ")\n",
    "\n",
    "# Adding rows to the DataFrame\n",
    "push!(df1, [\"Soybeans\", 2.6, 5.0, 0.178])\n",
    "push!(df1, [\"Sunflower seeds\", 1.4, 4.2, 0.216])\n",
    "push!(df1, [\"Cotton seeds\", 0.9, 1.0, 0.433])\n",
    "\n",
    "# Display the DataFrame\n",
    "df1\n"
   ]
  },
  {
   "cell_type": "markdown",
   "metadata": {},
   "source": [
    "Thereafter, the vegetable oil is transferred to a transesterification process, where 1 liter of vegetable oil and 0.2 liters of methanol creates 0.9 liters of biodiesel. The price for price of methanol is €1.5/ liter.\n",
    "\n",
    "Finally, biodiesel is mixed with petrol diesel to create the following products with the data according to table below :\n"
   ]
  },
  {
   "cell_type": "code",
   "execution_count": 50,
   "metadata": {},
   "outputs": [
    {
     "data": {
      "text/html": [
       "<div><div style = \"float: left;\"><span>3×4 DataFrame</span></div><div style = \"clear: both;\"></div></div><div class = \"data-frame\" style = \"overflow-x: scroll;\"><table class = \"data-frame\" style = \"margin-bottom: 6px;\"><thead><tr class = \"header\"><th class = \"rowNumber\" style = \"font-weight: bold; text-align: right;\">Row</th><th style = \"text-align: left;\">Product</th><th style = \"text-align: left;\">Bio diesel [%]</th><th style = \"text-align: left;\">Price [€/l]</th><th style = \"text-align: left;\">Tax [%]</th></tr><tr class = \"subheader headerLastRow\"><th class = \"rowNumber\" style = \"font-weight: bold; text-align: right;\"></th><th title = \"String\" style = \"text-align: left;\">String</th><th title = \"Int64\" style = \"text-align: left;\">Int64</th><th title = \"Float64\" style = \"text-align: left;\">Float64</th><th title = \"Int64\" style = \"text-align: left;\">Int64</th></tr></thead><tbody><tr><td class = \"rowNumber\" style = \"font-weight: bold; text-align: right;\">1</td><td style = \"text-align: left;\">B5</td><td style = \"text-align: right;\">5</td><td style = \"text-align: right;\">1.43</td><td style = \"text-align: right;\">20</td></tr><tr><td class = \"rowNumber\" style = \"font-weight: bold; text-align: right;\">2</td><td style = \"text-align: left;\">B30</td><td style = \"text-align: right;\">30</td><td style = \"text-align: right;\">1.29</td><td style = \"text-align: right;\">5</td></tr><tr><td class = \"rowNumber\" style = \"font-weight: bold; text-align: right;\">3</td><td style = \"text-align: left;\">B100</td><td style = \"text-align: right;\">100</td><td style = \"text-align: right;\">1.16</td><td style = \"text-align: right;\">0</td></tr></tbody></table></div>"
      ],
      "text/latex": [
       "\\begin{tabular}{r|cccc}\n",
       "\t& Product & Bio diesel [\\%] & Price [€/l] & Tax [\\%]\\\\\n",
       "\t\\hline\n",
       "\t& String & Int64 & Float64 & Int64\\\\\n",
       "\t\\hline\n",
       "\t1 & B5 & 5 & 1.43 & 20 \\\\\n",
       "\t2 & B30 & 30 & 1.29 & 5 \\\\\n",
       "\t3 & B100 & 100 & 1.16 & 0 \\\\\n",
       "\\end{tabular}\n"
      ],
      "text/plain": [
       "\u001b[1m3×4 DataFrame\u001b[0m\n",
       "\u001b[1m Row \u001b[0m│\u001b[1m Product \u001b[0m\u001b[1m Bio diesel [%] \u001b[0m\u001b[1m Price [€/l] \u001b[0m\u001b[1m Tax [%] \u001b[0m\n",
       "     │\u001b[90m String  \u001b[0m\u001b[90m Int64          \u001b[0m\u001b[90m Float64     \u001b[0m\u001b[90m Int64   \u001b[0m\n",
       "─────┼───────────────────────────────────────────────\n",
       "   1 │ B5                    5         1.43       20\n",
       "   2 │ B30                  30         1.29        5\n",
       "   3 │ B100                100         1.16        0"
      ]
     },
     "metadata": {},
     "output_type": "display_data"
    }
   ],
   "source": [
    "using DataFrames\n",
    "\n",
    "# Creating an empty DataFrame with quoted column names\n",
    "df2 = DataFrame(\n",
    "    \"Product\" => String[],\n",
    "    \"Bio diesel [%]\" => Int[],\n",
    "    \"Price [€/l]\" => Float64[],\n",
    "    \"Tax [%]\" => Int[]\n",
    ")\n",
    "\n",
    "# Adding rows to the DataFrame\n",
    "push!(df2, [\"B5\", 5, 1.43, 20])\n",
    "push!(df2, [\"B30\", 30, 1.29, 5])\n",
    "push!(df2, [\"B100\", 100, 1.16, 0])\n",
    "\n",
    "# Display the DataFrame\n",
    "df2"
   ]
  },
  {
   "cell_type": "markdown",
   "metadata": {},
   "source": [
    "The purchase price of the petrol diesel is €1/ liter."
   ]
  },
  {
   "cell_type": "markdown",
   "metadata": {},
   "source": [
    "1. Model\n",
    "\n",
    "Set:\n",
    "\n",
    "$I$ = \\{B5, B30, B100\\}, which is the set of product types.\n",
    "\n",
    "$J$ = \\{Biodiesel, Price, Tax\\}, which are the subcategories for biodiesel products.\n",
    "\n",
    "$K$ = \\{Soybeans, Sunflower seeds, Cotton seeds\\}, which is the set of  crop types.\n",
    "\n",
    "$L$ = \\{Yield, Water demand, Oil content\\}, which is the set of subcategories for each crop type."
   ]
  },
  {
   "cell_type": "code",
   "execution_count": 51,
   "metadata": {},
   "outputs": [
    {
     "data": {
      "text/plain": [
       "3-element Vector{Float64}:\n",
       " 0.05555555555555556\n",
       " 0.3333333333333333\n",
       " 1.1111111111111112"
      ]
     },
     "metadata": {},
     "output_type": "display_data"
    }
   ],
   "source": [
    "#Sets\n",
    "Prod_I = 1:3 #3 types of refined biodiesels\n",
    "Prod_cat_J = 1:3 #3 types of categories for each refined biodiesels NOT NEEDED?\n",
    "Crop_K = 1:3     #3 types of crop types \n",
    "Crop_cat_L = 1:3 #3 types of categories for each crop type        NOT NEEDED?\n",
    "\n",
    "#Labels\n",
    "Prod = [\"B5\" \"B30\" \"B100\"]\n",
    "Prod_cat =[\"Biodiesel\" \"Price\" \"Tax\"]\n",
    "Crop = [\"Soybeans\" \"Sunflower seeds\" \"Cotton seeds\"]\n",
    "Crop_cat = [\"Yield\" \"Water demand\" \"Oil content\"]\n",
    "\n",
    "\n",
    "#Data\n",
    "Methanol_volume = 2/9 # Volume of methanol used per liter of biodiesel, which is 0.2/0.9 [l]\n",
    "Methanol_price = 1.5 # Price of methanol per liter [€/l]\n",
    "Petrol_price = 1 #[€/l]\n",
    "\n",
    "#Crop data table\n",
    "#Crop           Yield [t/ha]      Water demand [Ml/ha]       Oil content [l/kg]\n",
    "Crop_data = [       2.6                    5.0                       0.178     #Soybeans      \n",
    "                    1.4                    4.2                       0.216     #Sunflower seeds\n",
    "                    0.9                    1.0                       0.433]    #Cotton seeds\n",
    "\n",
    "\n",
    "#Product data table\n",
    "#Product           Biodiesel [proportion]      Price [€/l]                 Tax [proportion]\n",
    "Prod_data = [               0.05                  1.43                           0.2     #B5      \n",
    "                            0.30                  1.29                           0.05    #B30\n",
    "                            1.00                  1.16                           0]      #B100\n",
    "\n",
    "Veg_volume = Prod_data[:,1]/0.9 #Volume of vegoil used in fuel type i"
   ]
  },
  {
   "cell_type": "markdown",
   "metadata": {},
   "source": [
    "Decision variables:\n",
    "\n",
    "$A_k$ denotes the area [ha] of crop grown for type $k \\in K$ grown.\n",
    "\n",
    "$C_{k,l}$ denotes the data of column $l \\in L$ for crop type $k \\in K$.\n",
    "\n",
    "$P_{i,j}$ denotes the data of column $j \\in J$ for fuel type $i \\in I$.\n",
    "\n",
    "$R_{i}$ is the volume of fuel [liter] created for type $i \\in I$\n",
    "\n",
    "$B_i$ is the volume of petrol diesel [liter] used to make biodiesel for product type $i \\in I$. The price of petrol diesel is €1/ liter.\n",
    "\n",
    "$M$ is the total volume of methanol [liter] used. The price of methanol is €1.5/ liter.\n",
    "\n",
    "$V_k$ is the volume of vegetable oil [liter] obtained from crop type for type $k \\in K$.\n",
    "\n",
    "$G_i$ is the volume of vegetable oil [liter] used to create 1 liter of product type $i \\in I$."
   ]
  },
  {
   "cell_type": "markdown",
   "metadata": {},
   "source": [
    "Constraints:\n",
    "\n",
    "Inequality constraints:\n",
    "\n",
    "The inequality constraints make sure that we do not over exceed any physical limitations of the resources available. Therefore, the following constraints apply\n",
    "$$\\sum_{i \\in I}B_i\\leq 150 000,$$\n",
    "\n",
    "which is the limit of petrol resources.\n",
    "$$\\sum_{k \\in K} A_kC_{k,2} \\leq 5000,$$\n",
    "\n",
    "which limits the water resources to 5000 Ml.\n",
    "$$\\sum_{k \\in K} A_{k} \\leq 1600,$$\n",
    "\n",
    "which is the available area limited to 1600 ha.\n",
    "$$\\sum_{i \\in I} R_{i} \\geq 280 000,$$\n",
    "\n",
    "which satisfies the demand."
   ]
  },
  {
   "cell_type": "markdown",
   "metadata": {},
   "source": [
    "Equality (Flow) constraints:\n",
    "\n",
    "In order for the production to create the correct amounts of product between the steps, the following flow constraints are needed within the steps.\n",
    "\n",
    "Firstly, the amount of vegetable oil extracted from the seeds has to equal the seed content, which is \n",
    "$$V_k = 1000 A_kC_{k,1}C_{k,3} \\text{, }\\forall\\, k \\in K.$$\n",
    "\n",
    "Another constraint is that the petrol diesel used in the process has to be the same as what is in the final product, denoted by\n",
    "$$B_i = R_i(1-P_{i,1})\\text{, }\\forall\\, i\\in I.$$\n",
    "\n",
    "From the transesterification process, we get the following equality constraint\n",
    "$$M = \\frac{2}{10}\\sum_{k \\in K}V_k,$$\n",
    "\n",
    "which explains the proportion of vegetable oil and methanol.\n",
    "Then there is the constraint of having equal amounts of vegetable oil in the refined biodiesel and the finalized products.\n",
    "$$\\sum_{i \\in I} R_iP_{i,1}G_{i} = \\sum_{k \\in K} V_k.$$\n",
    "\n",
    "Finally there is the non-negativity constraint\n",
    "$$A_k, R_i, B_i, C_{k,l}, G_i, V_k \\geq 0 \\text{, } \\forall k \\in K, \\forall i \\in I \\text{ and } l \\in L.$$"
   ]
  },
  {
   "cell_type": "markdown",
   "metadata": {},
   "source": [
    "Objective function:\n",
    "\n",
    "We want to maximize the profit, which is formulated as\n",
    "$$\\text{max } z = \\sum_{i \\in I} (R_iP_{i,2}(1-P_{i,3}) - 1B_i)-1.5M$$\n",
    "\n",
    "The equation takes into consideration the cost of the methanol and the petrol diesel in the first two terms. The summation is the profit made from selling the products while deducting the tax on each product."
   ]
  },
  {
   "cell_type": "code",
   "execution_count": 52,
   "metadata": {},
   "outputs": [
    {
     "data": {
      "text/plain": [
       "Bioprofit (generic function with 1 method)"
      ]
     },
     "metadata": {},
     "output_type": "display_data"
    }
   ],
   "source": [
    "\n",
    "function Bioprofit()\n",
    "    include(\"Biodiesel_dat.jl\")\n",
    "    #Create an empty model\n",
    "    m = Model()\n",
    "\n",
    "    #Decision variables\n",
    "    @variable(m, A_k[Crop_K]>=0) #Area [ha] of crop type k\n",
    "    @variable(m, R_i[Prod_I]>=0) #Volume [liter] of final fuel of type i\n",
    "\n",
    "    #B = sum(R_i[Prod_I]*(1-Prod_data[i,1]) for i in Prod_I) #Total volume [l] of petrol diesel used\n",
    "\n",
    "    B_i = R_i.*(1 .- Prod_data[:,1])  #Volume [l] of petrol diesel used for fuel type i\n",
    "    V_k = 1000 .*A_k.* Crop_data[:,1].* Crop_data[:,3]#Volume [l] of vegetable oil from crop type k\n",
    "    M = sum(V_k[k].* Methanol_volume for k in Crop_K) #Volume of methanol used [l]\n",
    "    Tax_deduct = (1 .- Prod_data[:,3])\n",
    "\n",
    "    #Objective function\n",
    "    @objective(m, Max, sum(R_i[i]* Prod_data[i,2]* Tax_deduct[i] - B_i[i]* Petrol_price for i in Prod_I)-M*Methanol_price)\n",
    "\n",
    "\n",
    "    #Constraints\n",
    "    #Inequality constraints\n",
    "    @constraint(m, sum(B_i[i] for i in Prod_I) <= 150000) #Supply of petrol diesel limited\n",
    "    @constraint(m, sum(A_k[k]*Crop_data[k,2] for k in Crop_K) <= 5000) #Water limit\n",
    "    @constraint(m, sum(A_k[k] for k in Crop_K) <= 1600)   #Area limited\n",
    "    @constraint(m, sum(R_i[i] for i in Prod_I) >= 280000)   #Demand constraint\n",
    "\n",
    "    #Equality (flow) constraints\n",
    "    @constraint(m, sum(R_i[i]* Veg_volume[i] for i in Prod_I) <= sum(V_k[k] for k in Crop_K))    \n",
    "\n",
    "    return m, A_k, R_i, B_i, V_k, M\n",
    "end\n"
   ]
  },
  {
   "cell_type": "markdown",
   "metadata": {},
   "source": [
    "2. Unedited results from the model:\n",
    "\n",
    "After implementing the model constructed, the following values are obtained\n",
    "\n",
    "    - the maximized profit is 548 163€,\n",
    "    - the volume of fuel supplied in the order B5, B30 and B100 is [0, 214286, 552804] liters,\n",
    "    - the volume of petrol diesel used is 150000 liters, where everything went into the production of B30,\n",
    "    - the volume of methanol used is 137131 liters, \n",
    "    - the area of each crop type in the order soybeans, sunflower seeds, and cotton seeds is [850, 0, 750] ha,\n",
    "    - the water usage of each crop type in the same order is [4250, 0, 750] Ml\n",
    "\n",
    "Something to note is that all of the water, petrol diesel and area is used, which is a sign of the profit being maximized."
   ]
  },
  {
   "cell_type": "markdown",
   "metadata": {},
   "source": [
    "3. Sensitivity analysis\n",
    "\n",
    "a. Resource availability\n",
    "\n",
    "The goal is to figure out if the model becomes infeasible due to changes in the resource availability and if the area, water and petrol diesel availability are related. The starting profit, as described earlier, is  548 163€.\n",
    "\n",
    "Firstly, the petrol diesel is analyzed. The starting value is 150 000 liters. This value can be decreased all the way to 0 and yet the model remains feasible. This means that only B100 is sold.\n",
    "\n",
    "Secondly, the water limit is set to its maximum value of 5000 Ml. This value can be decreased to 371 Ml while the model still remains feasible.\n",
    "\n",
    "Thirdly, the starting value for the area is set to 1600 ha. The area can be decreased to 313 ha while the model still remains feasible.\n",
    "\n",
    "While performing this analysis, it is important to note that whenever the amount of petrol diesel decreased, the volume of  B$_{100}$ increased but area and water usage were not affected. This means that the model is not forced to include petrol and profit can be made of only B100. When decreasing the available area, water usage also decreases and only soybeans are grown. This causes the volume of B100 to decrease while leaving the volume of  B30 untouched. Due to the reduced production of products, the profit is decreased. Finally, when decreasing the water limit, the area used is also decreased. However, in this case, only cotton seeds are grown. This makes sense since it is the crop type that has the lowest water demand. Yet again, the volume of B30 remains untouched while B100 is reduced.\n",
    "\n",
    "It seems that there is no profitability of producing B5, despite the changes in area and water limitations. This is due to the tax on the product being high.\n"
   ]
  },
  {
   "cell_type": "markdown",
   "metadata": {},
   "source": [
    "b.  Marginal increments\n",
    "\n",
    "In the following scenarios, the profit is analyzed by marginally increasing the supply of petrol diesel, water resources, and available area. These supplies are increased with a factor of 1\\%, one at a time. When increasing the supply of petrol diesel, the following results are obtained"
   ]
  },
  {
   "cell_type": "code",
   "execution_count": 55,
   "metadata": {},
   "outputs": [
    {
     "data": {
      "text/html": [
       "<div><div style = \"float: left;\"><span>4×2 DataFrame</span></div><div style = \"clear: both;\"></div></div><div class = \"data-frame\" style = \"overflow-x: scroll;\"><table class = \"data-frame\" style = \"margin-bottom: 6px;\"><thead><tr class = \"header\"><th class = \"rowNumber\" style = \"font-weight: bold; text-align: right;\">Row</th><th style = \"text-align: left;\">Supply [l]</th><th style = \"text-align: left;\">Profit [€]</th></tr><tr class = \"subheader headerLastRow\"><th class = \"rowNumber\" style = \"font-weight: bold; text-align: right;\"></th><th title = \"Int64\" style = \"text-align: left;\">Int64</th><th title = \"Int64\" style = \"text-align: left;\">Int64</th></tr></thead><tbody><tr><td class = \"rowNumber\" style = \"font-weight: bold; text-align: right;\">1</td><td style = \"text-align: right;\">150000</td><td style = \"text-align: right;\">548163</td></tr><tr><td class = \"rowNumber\" style = \"font-weight: bold; text-align: right;\">2</td><td style = \"text-align: right;\">151500</td><td style = \"text-align: right;\">551966</td></tr><tr><td class = \"rowNumber\" style = \"font-weight: bold; text-align: right;\">3</td><td style = \"text-align: right;\">153019</td><td style = \"text-align: right;\">556150</td></tr><tr><td class = \"rowNumber\" style = \"font-weight: bold; text-align: right;\">4</td><td style = \"text-align: right;\">154545</td><td style = \"text-align: right;\">560752</td></tr></tbody></table></div>"
      ],
      "text/latex": [
       "\\begin{tabular}{r|cc}\n",
       "\t& Supply [l] & Profit [€]\\\\\n",
       "\t\\hline\n",
       "\t& Int64 & Int64\\\\\n",
       "\t\\hline\n",
       "\t1 & 150000 & 548163 \\\\\n",
       "\t2 & 151500 & 551966 \\\\\n",
       "\t3 & 153019 & 556150 \\\\\n",
       "\t4 & 154545 & 560752 \\\\\n",
       "\\end{tabular}\n"
      ],
      "text/plain": [
       "\u001b[1m4×2 DataFrame\u001b[0m\n",
       "\u001b[1m Row \u001b[0m│\u001b[1m Supply [l] \u001b[0m\u001b[1m Profit [€] \u001b[0m\n",
       "     │\u001b[90m Int64      \u001b[0m\u001b[90m Int64      \u001b[0m\n",
       "─────┼────────────────────────\n",
       "   1 │     150000      548163\n",
       "   2 │     151500      551966\n",
       "   3 │     153019      556150\n",
       "   4 │     154545      560752"
      ]
     },
     "metadata": {},
     "output_type": "display_data"
    }
   ],
   "source": [
    "using DataFrames\n",
    "\n",
    "# Creating an empty DataFrame with quoted column names\n",
    "df3 = DataFrame(\n",
    "    \"Supply [l]\" => Int[],\n",
    "    \"Profit [€]\" => Int[]\n",
    ")\n",
    "\n",
    "# Adding rows to the DataFrame\n",
    "push!(df3, [150000, 548163])\n",
    "push!(df3, [151500, 551966])\n",
    "push!(df3, [153019, 556150])\n",
    "push!(df3, [154545, 560752])\n",
    "\n",
    "# Display the DataFrame\n",
    "df3"
   ]
  },
  {
   "cell_type": "markdown",
   "metadata": {},
   "source": [
    "From the marginal increments of the available petrol diesel, more fuel of type B30 is produced and sold, which increases the profit made. Therefore, by only increasing the available amount of petrol diesel, the profit will increase. Something to note is that no volume of B5 is still produced since it is still not profitable enough. Secondly, the area is marginally increased, which results in the following values"
   ]
  },
  {
   "cell_type": "code",
   "execution_count": 56,
   "metadata": {},
   "outputs": [
    {
     "data": {
      "text/html": [
       "<div><div style = \"float: left;\"><span>4×2 DataFrame</span></div><div style = \"clear: both;\"></div></div><div class = \"data-frame\" style = \"overflow-x: scroll;\"><table class = \"data-frame\" style = \"margin-bottom: 6px;\"><thead><tr class = \"header\"><th class = \"rowNumber\" style = \"font-weight: bold; text-align: right;\">Row</th><th style = \"text-align: left;\">Area [ha]</th><th style = \"text-align: left;\">Profit [€]</th></tr><tr class = \"subheader headerLastRow\"><th class = \"rowNumber\" style = \"font-weight: bold; text-align: right;\"></th><th title = \"Int64\" style = \"text-align: left;\">Int64</th><th title = \"Int64\" style = \"text-align: left;\">Int64</th></tr></thead><tbody><tr><td class = \"rowNumber\" style = \"font-weight: bold; text-align: right;\">1</td><td style = \"text-align: right;\">1600</td><td style = \"text-align: right;\">548163</td></tr><tr><td class = \"rowNumber\" style = \"font-weight: bold; text-align: right;\">2</td><td style = \"text-align: right;\">1616</td><td style = \"text-align: right;\">552584</td></tr><tr><td class = \"rowNumber\" style = \"font-weight: bold; text-align: right;\">3</td><td style = \"text-align: right;\">1632</td><td style = \"text-align: right;\">557005</td></tr><tr><td class = \"rowNumber\" style = \"font-weight: bold; text-align: right;\">4</td><td style = \"text-align: right;\">1648</td><td style = \"text-align: right;\">561427</td></tr></tbody></table></div>"
      ],
      "text/latex": [
       "\\begin{tabular}{r|cc}\n",
       "\t& Area [ha] & Profit [€]\\\\\n",
       "\t\\hline\n",
       "\t& Int64 & Int64\\\\\n",
       "\t\\hline\n",
       "\t1 & 1600 & 548163 \\\\\n",
       "\t2 & 1616 & 552584 \\\\\n",
       "\t3 & 1632 & 557005 \\\\\n",
       "\t4 & 1648 & 561427 \\\\\n",
       "\\end{tabular}\n"
      ],
      "text/plain": [
       "\u001b[1m4×2 DataFrame\u001b[0m\n",
       "\u001b[1m Row \u001b[0m│\u001b[1m Area [ha] \u001b[0m\u001b[1m Profit [€] \u001b[0m\n",
       "     │\u001b[90m Int64     \u001b[0m\u001b[90m Int64      \u001b[0m\n",
       "─────┼───────────────────────\n",
       "   1 │      1600      548163\n",
       "   2 │      1616      552584\n",
       "   3 │      1632      557005\n",
       "   4 │      1648      561427"
      ]
     },
     "metadata": {},
     "output_type": "display_data"
    }
   ],
   "source": [
    "using DataFrames\n",
    "\n",
    "# Creating an empty DataFrame with quoted column names\n",
    "df4 = DataFrame(\n",
    "    \"Area [ha]\" => Int[],\n",
    "    \"Profit [€]\" => Int[]\n",
    ")\n",
    "\n",
    "# Adding rows to the DataFrame\n",
    "push!(df4, [1600, 548163])\n",
    "push!(df4, [1616, 552584])\n",
    "push!(df4, [1632, 557005])\n",
    "push!(df4, [1648, 561427])\n",
    "\n",
    "# Display the DataFrame\n",
    "df4"
   ]
  },
  {
   "cell_type": "markdown",
   "metadata": {},
   "source": [
    "There is a clear pattern that the more area is available, the more vegetable oil is produced, and therefore the supply of biodiesel increases. However, the proportion between B30 and B100 changes since no more petrol diesel is available, the only product that can be produced is B100. Therefore, more B100 is produced and increases the profit made. Finally, the water supply is also marginally increased, which ends up in the values according to the table below"
   ]
  },
  {
   "cell_type": "code",
   "execution_count": 57,
   "metadata": {},
   "outputs": [
    {
     "data": {
      "text/html": [
       "<div><div style = \"float: left;\"><span>4×2 DataFrame</span></div><div style = \"clear: both;\"></div></div><div class = \"data-frame\" style = \"overflow-x: scroll;\"><table class = \"data-frame\" style = \"margin-bottom: 6px;\"><thead><tr class = \"header\"><th class = \"rowNumber\" style = \"font-weight: bold; text-align: right;\">Row</th><th style = \"text-align: left;\">Water supply [Ml]</th><th style = \"text-align: left;\">Profit [€]</th></tr><tr class = \"subheader headerLastRow\"><th class = \"rowNumber\" style = \"font-weight: bold; text-align: right;\"></th><th title = \"Int64\" style = \"text-align: left;\">Int64</th><th title = \"Int64\" style = \"text-align: left;\">Int64</th></tr></thead><tbody><tr><td class = \"rowNumber\" style = \"font-weight: bold; text-align: right;\">1</td><td style = \"text-align: right;\">5000</td><td style = \"text-align: right;\">548163</td></tr><tr><td class = \"rowNumber\" style = \"font-weight: bold; text-align: right;\">2</td><td style = \"text-align: right;\">5050</td><td style = \"text-align: right;\">548842</td></tr><tr><td class = \"rowNumber\" style = \"font-weight: bold; text-align: right;\">3</td><td style = \"text-align: right;\">5100</td><td style = \"text-align: right;\">549522</td></tr><tr><td class = \"rowNumber\" style = \"font-weight: bold; text-align: right;\">4</td><td style = \"text-align: right;\">5150</td><td style = \"text-align: right;\">550202</td></tr></tbody></table></div>"
      ],
      "text/latex": [
       "\\begin{tabular}{r|cc}\n",
       "\t& Water supply [Ml] & Profit [€]\\\\\n",
       "\t\\hline\n",
       "\t& Int64 & Int64\\\\\n",
       "\t\\hline\n",
       "\t1 & 5000 & 548163 \\\\\n",
       "\t2 & 5050 & 548842 \\\\\n",
       "\t3 & 5100 & 549522 \\\\\n",
       "\t4 & 5150 & 550202 \\\\\n",
       "\\end{tabular}\n"
      ],
      "text/plain": [
       "\u001b[1m4×2 DataFrame\u001b[0m\n",
       "\u001b[1m Row \u001b[0m│\u001b[1m Water supply [Ml] \u001b[0m\u001b[1m Profit [€] \u001b[0m\n",
       "     │\u001b[90m Int64             \u001b[0m\u001b[90m Int64      \u001b[0m\n",
       "─────┼───────────────────────────────\n",
       "   1 │              5000      548163\n",
       "   2 │              5050      548842\n",
       "   3 │              5100      549522\n",
       "   4 │              5150      550202"
      ]
     },
     "metadata": {},
     "output_type": "display_data"
    }
   ],
   "source": [
    "using DataFrames\n",
    "\n",
    "# Creating an empty DataFrame with quoted column names\n",
    "df5 = DataFrame(\n",
    "    \"Water supply [Ml]\" => Int[],\n",
    "    \"Profit [€]\" => Int[]\n",
    ")\n",
    "\n",
    "# Adding rows to the DataFrame\n",
    "push!(df5, [5000, 548163])\n",
    "push!(df5, [5050, 548842])\n",
    "push!(df5, [5100, 549522])\n",
    "push!(df5, [5150, 550202])\n",
    "\n",
    "# Display the DataFrame\n",
    "df5"
   ]
  },
  {
   "cell_type": "markdown",
   "metadata": {},
   "source": [
    "According to the values, an increase in water supply also increases the profit, which is reasonable. This is due to more crops planted, which increases the volume of biodiesel produced and therefore the volume of B100 sold. No more B30 can be produced since all of the petrol diesel supply is used for the production of B30. Yet again, no B5 is produced due to its low profitability. Something interesting to note is that the amount of soybeans planted will always increase as the water supply increases. It reaches a point where cotton seeds are not as profitable and fewer are planted. In general, soybeans offer the greatest yield but are restricted by their highest water demand. By being less strict with the water constraint, it seems obvious to plant as much of it as possible and offer less area for cotton seeds. "
   ]
  },
  {
   "cell_type": "markdown",
   "metadata": {},
   "source": [
    "c. Non-zero sunflower planting\n",
    "\n",
    "Chose to only analyze the sunflower seeds since the problem lies with it. The accuracy was also limited to the same number of figures of value as was given for each of the parameters. \n",
    "\n",
    "Removing the need for water completely still gives a zero solution indicating that it does not have a major effect on this problem. If we instead adjust the yield we get a non-zero solution once the value passes 2.08, and the area for the crops [Soybeans, Sunflower seeds, Cotton seeds] is [0, 1062.5, 537.5], in other words, the soybeans will get a zero-solution instead.\n",
    "While adjusting the oil content the first non-zero solution for the sunflower seeds once again put the soybeans area to zero. The area used by the crops is [0 1062.6 537.5], exactly the same as when adjusting the yield indicating that there is a relation between the area used by the soybeans and sunflower seeds.\n",
    "\n",
    "d.  Increased petrol diesel cost\n",
    "Adjusting the petrol diesel cost to $1.2 €$ gives the product type as [B5, B30, B100] = [0,  214285.514,  552803.787], an area distribution of [850,  0,  750] for the crop types [Soybeans, Sunflower seeds, Cotton seeds], resulting in a profit of 518163.03 €\n"
   ]
  },
  {
   "cell_type": "markdown",
   "metadata": {},
   "source": [
    "e. Tax changes\n",
    "\n",
    "Adjusting the $20\\,\\%$ tax on B5 gives significant changes to the objective value as the tax approaches zero."
   ]
  },
  {
   "cell_type": "code",
   "execution_count": 58,
   "metadata": {},
   "outputs": [
    {
     "data": {
      "text/html": [
       "<div><div style = \"float: left;\"><span>5×3 DataFrame</span></div><div style = \"clear: both;\"></div></div><div class = \"data-frame\" style = \"overflow-x: scroll;\"><table class = \"data-frame\" style = \"margin-bottom: 6px;\"><thead><tr class = \"header\"><th class = \"rowNumber\" style = \"font-weight: bold; text-align: right;\">Row</th><th style = \"text-align: left;\">Biodiesel type</th><th style = \"text-align: left;\">Tax [%]</th><th style = \"text-align: left;\">Price [€/l]</th></tr><tr class = \"subheader headerLastRow\"><th class = \"rowNumber\" style = \"font-weight: bold; text-align: right;\"></th><th title = \"String\" style = \"text-align: left;\">String</th><th title = \"Int64\" style = \"text-align: left;\">Int64</th><th title = \"Float64\" style = \"text-align: left;\">Float64</th></tr></thead><tbody><tr><td class = \"rowNumber\" style = \"font-weight: bold; text-align: right;\">1</td><td style = \"text-align: left;\">B5</td><td style = \"text-align: right;\">50</td><td style = \"text-align: right;\">548163.0</td></tr><tr><td class = \"rowNumber\" style = \"font-weight: bold; text-align: right;\">2</td><td style = \"text-align: left;\">B5</td><td style = \"text-align: right;\">80</td><td style = \"text-align: right;\">548163.0</td></tr><tr><td class = \"rowNumber\" style = \"font-weight: bold; text-align: right;\">3</td><td style = \"text-align: left;\">B5</td><td style = \"text-align: right;\">30</td><td style = \"text-align: right;\">548163.0</td></tr><tr><td class = \"rowNumber\" style = \"font-weight: bold; text-align: right;\">4</td><td style = \"text-align: left;\">B5</td><td style = \"text-align: right;\">5</td><td style = \"text-align: right;\">565469.0</td></tr><tr><td class = \"rowNumber\" style = \"font-weight: bold; text-align: right;\">5</td><td style = \"text-align: left;\">B5</td><td style = \"text-align: right;\">0</td><td style = \"text-align: right;\">576759.0</td></tr></tbody></table></div>"
      ],
      "text/latex": [
       "\\begin{tabular}{r|ccc}\n",
       "\t& Biodiesel type & Tax [\\%] & Price [€/l]\\\\\n",
       "\t\\hline\n",
       "\t& String & Int64 & Float64\\\\\n",
       "\t\\hline\n",
       "\t1 & B5 & 50 & 548163.0 \\\\\n",
       "\t2 & B5 & 80 & 548163.0 \\\\\n",
       "\t3 & B5 & 30 & 548163.0 \\\\\n",
       "\t4 & B5 & 5 & 565469.0 \\\\\n",
       "\t5 & B5 & 0 & 576759.0 \\\\\n",
       "\\end{tabular}\n"
      ],
      "text/plain": [
       "\u001b[1m5×3 DataFrame\u001b[0m\n",
       "\u001b[1m Row \u001b[0m│\u001b[1m Biodiesel type \u001b[0m\u001b[1m Tax [%] \u001b[0m\u001b[1m Price [€/l] \u001b[0m\n",
       "     │\u001b[90m String         \u001b[0m\u001b[90m Int64   \u001b[0m\u001b[90m Float64     \u001b[0m\n",
       "─────┼──────────────────────────────────────\n",
       "   1 │ B5                   50     548163.0\n",
       "   2 │ B5                   80     548163.0\n",
       "   3 │ B5                   30     548163.0\n",
       "   4 │ B5                    5     565469.0\n",
       "   5 │ B5                    0     576759.0"
      ]
     },
     "metadata": {},
     "output_type": "display_data"
    }
   ],
   "source": [
    "using DataFrames\n",
    "\n",
    "# Creating an empty DataFrame with quoted column names\n",
    "df6 = DataFrame(\n",
    "    \"Biodiesel type\" => String[],\n",
    "    \"Tax [%]\" => Int[],\n",
    "    \"Price [€/l]\" => Float64[]\n",
    ")\n",
    "\n",
    "# Adding rows to the DataFrame\n",
    "push!(df6, [\"B5\", 50, 548163])\n",
    "push!(df6, [\"B5\", 80, 548163])\n",
    "push!(df6, [\"B5\", 30, 548163])\n",
    "push!(df6, [\"B5\", 5, 565469])\n",
    "push!(df6, [\"B5\", 0, 576759])\n",
    "\n",
    "# Display the DataFrame\n",
    "df6"
   ]
  },
  {
   "cell_type": "markdown",
   "metadata": {},
   "source": [
    "Adjusting the $5\\,\\%$ tax on B30  shows that it does not really have a major effect on the objective value since it barely changes even with drastic alterations to the tax. "
   ]
  },
  {
   "cell_type": "code",
   "execution_count": 59,
   "metadata": {},
   "outputs": [
    {
     "data": {
      "text/html": [
       "<div><div style = \"float: left;\"><span>5×3 DataFrame</span></div><div style = \"clear: both;\"></div></div><div class = \"data-frame\" style = \"overflow-x: scroll;\"><table class = \"data-frame\" style = \"margin-bottom: 6px;\"><thead><tr class = \"header\"><th class = \"rowNumber\" style = \"font-weight: bold; text-align: right;\">Row</th><th style = \"text-align: left;\">Biodiesel type</th><th style = \"text-align: left;\">Tax [%]</th><th style = \"text-align: left;\">Price [€/l]</th></tr><tr class = \"subheader headerLastRow\"><th class = \"rowNumber\" style = \"font-weight: bold; text-align: right;\"></th><th title = \"String\" style = \"text-align: left;\">String</th><th title = \"Int64\" style = \"text-align: left;\">Int64</th><th title = \"Float64\" style = \"text-align: left;\">Float64</th></tr></thead><tbody><tr><td class = \"rowNumber\" style = \"font-weight: bold; text-align: right;\">1</td><td style = \"text-align: left;\">B30</td><td style = \"text-align: right;\">50</td><td style = \"text-align: right;\">531601.0</td></tr><tr><td class = \"rowNumber\" style = \"font-weight: bold; text-align: right;\">2</td><td style = \"text-align: left;\">B30</td><td style = \"text-align: right;\">1</td><td style = \"text-align: right;\">559220.0</td></tr><tr><td class = \"rowNumber\" style = \"font-weight: bold; text-align: right;\">3</td><td style = \"text-align: left;\">B30</td><td style = \"text-align: right;\">80</td><td style = \"text-align: right;\">531601.0</td></tr><tr><td class = \"rowNumber\" style = \"font-weight: bold; text-align: right;\">4</td><td style = \"text-align: left;\">B30</td><td style = \"text-align: right;\">0</td><td style = \"text-align: right;\">561984.0</td></tr><tr><td class = \"rowNumber\" style = \"font-weight: bold; text-align: right;\">5</td><td style = \"text-align: left;\">B30</td><td style = \"text-align: right;\">30</td><td style = \"text-align: right;\">531601.0</td></tr></tbody></table></div>"
      ],
      "text/latex": [
       "\\begin{tabular}{r|ccc}\n",
       "\t& Biodiesel type & Tax [\\%] & Price [€/l]\\\\\n",
       "\t\\hline\n",
       "\t& String & Int64 & Float64\\\\\n",
       "\t\\hline\n",
       "\t1 & B30 & 50 & 531601.0 \\\\\n",
       "\t2 & B30 & 1 & 559220.0 \\\\\n",
       "\t3 & B30 & 80 & 531601.0 \\\\\n",
       "\t4 & B30 & 0 & 561984.0 \\\\\n",
       "\t5 & B30 & 30 & 531601.0 \\\\\n",
       "\\end{tabular}\n"
      ],
      "text/plain": [
       "\u001b[1m5×3 DataFrame\u001b[0m\n",
       "\u001b[1m Row \u001b[0m│\u001b[1m Biodiesel type \u001b[0m\u001b[1m Tax [%] \u001b[0m\u001b[1m Price [€/l] \u001b[0m\n",
       "     │\u001b[90m String         \u001b[0m\u001b[90m Int64   \u001b[0m\u001b[90m Float64     \u001b[0m\n",
       "─────┼──────────────────────────────────────\n",
       "   1 │ B30                  50     531601.0\n",
       "   2 │ B30                   1     559220.0\n",
       "   3 │ B30                  80     531601.0\n",
       "   4 │ B30                   0     561984.0\n",
       "   5 │ B30                  30     531601.0"
      ]
     },
     "metadata": {},
     "output_type": "display_data"
    }
   ],
   "source": [
    "using DataFrames\n",
    "\n",
    "# Creating an empty DataFrame with quoted column names\n",
    "df7 = DataFrame(\n",
    "    \"Biodiesel type\" => String[],\n",
    "    \"Tax [%]\" => Int[],\n",
    "    \"Price [€/l]\" => Float64[]\n",
    ")\n",
    "\n",
    "# Adding rows to the DataFrame\n",
    "push!(df7, [\"B30\", 50, 531601])\n",
    "push!(df7, [\"B30\", 1, 559220])\n",
    "push!(df7, [\"B30\", 80, 531601])\n",
    "push!(df7, [\"B30\", 0, 561984])\n",
    "push!(df7, [\"B30\", 30, 531601])\n",
    "\n",
    "# Display the DataFrame\n",
    "df7"
   ]
  },
  {
   "cell_type": "markdown",
   "metadata": {},
   "source": [
    "Adjusting the $0\\,\\%$ tax on B100 leads to a major change to the objective value after changing the tax only a few percent, more exactly, around $7\\,\\%$"
   ]
  },
  {
   "cell_type": "code",
   "execution_count": 60,
   "metadata": {},
   "outputs": [
    {
     "data": {
      "text/html": [
       "<div><div style = \"float: left;\"><span>6×3 DataFrame</span></div><div style = \"clear: both;\"></div></div><div class = \"data-frame\" style = \"overflow-x: scroll;\"><table class = \"data-frame\" style = \"margin-bottom: 6px;\"><thead><tr class = \"header\"><th class = \"rowNumber\" style = \"font-weight: bold; text-align: right;\">Row</th><th style = \"text-align: left;\">Biodiesel type</th><th style = \"text-align: left;\">Tax [%]</th><th style = \"text-align: left;\">Price [€/l]</th></tr><tr class = \"subheader headerLastRow\"><th class = \"rowNumber\" style = \"font-weight: bold; text-align: right;\"></th><th title = \"String\" style = \"text-align: left;\">String</th><th title = \"Int64\" style = \"text-align: left;\">Int64</th><th title = \"Float64\" style = \"text-align: left;\">Float64</th></tr></thead><tbody><tr><td class = \"rowNumber\" style = \"font-weight: bold; text-align: right;\">1</td><td style = \"text-align: left;\">B100</td><td style = \"text-align: right;\">5</td><td style = \"text-align: right;\">516100.0</td></tr><tr><td class = \"rowNumber\" style = \"font-weight: bold; text-align: right;\">2</td><td style = \"text-align: left;\">B100</td><td style = \"text-align: right;\">20</td><td style = \"text-align: right;\">419913.0</td></tr><tr><td class = \"rowNumber\" style = \"font-weight: bold; text-align: right;\">3</td><td style = \"text-align: left;\">B100</td><td style = \"text-align: right;\">50</td><td style = \"text-align: right;\">227537.0</td></tr><tr><td class = \"rowNumber\" style = \"font-weight: bold; text-align: right;\">4</td><td style = \"text-align: left;\">B100</td><td style = \"text-align: right;\">10</td><td style = \"text-align: right;\">484038.0</td></tr><tr><td class = \"rowNumber\" style = \"font-weight: bold; text-align: right;\">5</td><td style = \"text-align: left;\">B100</td><td style = \"text-align: right;\">7</td><td style = \"text-align: right;\">503275.0</td></tr><tr><td class = \"rowNumber\" style = \"font-weight: bold; text-align: right;\">6</td><td style = \"text-align: left;\">B100</td><td style = \"text-align: right;\">9</td><td style = \"text-align: right;\">490450.0</td></tr></tbody></table></div>"
      ],
      "text/latex": [
       "\\begin{tabular}{r|ccc}\n",
       "\t& Biodiesel type & Tax [\\%] & Price [€/l]\\\\\n",
       "\t\\hline\n",
       "\t& String & Int64 & Float64\\\\\n",
       "\t\\hline\n",
       "\t1 & B100 & 5 & 516100.0 \\\\\n",
       "\t2 & B100 & 20 & 419913.0 \\\\\n",
       "\t3 & B100 & 50 & 227537.0 \\\\\n",
       "\t4 & B100 & 10 & 484038.0 \\\\\n",
       "\t5 & B100 & 7 & 503275.0 \\\\\n",
       "\t6 & B100 & 9 & 490450.0 \\\\\n",
       "\\end{tabular}\n"
      ],
      "text/plain": [
       "\u001b[1m6×3 DataFrame\u001b[0m\n",
       "\u001b[1m Row \u001b[0m│\u001b[1m Biodiesel type \u001b[0m\u001b[1m Tax [%] \u001b[0m\u001b[1m Price [€/l] \u001b[0m\n",
       "     │\u001b[90m String         \u001b[0m\u001b[90m Int64   \u001b[0m\u001b[90m Float64     \u001b[0m\n",
       "─────┼──────────────────────────────────────\n",
       "   1 │ B100                  5     516100.0\n",
       "   2 │ B100                 20     419913.0\n",
       "   3 │ B100                 50     227537.0\n",
       "   4 │ B100                 10     484038.0\n",
       "   5 │ B100                  7     503275.0\n",
       "   6 │ B100                  9     490450.0"
      ]
     },
     "metadata": {},
     "output_type": "display_data"
    }
   ],
   "source": [
    "using DataFrames\n",
    "\n",
    "# Creating an empty DataFrame with quoted column names\n",
    "df8 = DataFrame(\n",
    "    \"Biodiesel type\" => String[],\n",
    "    \"Tax [%]\" => Int[],\n",
    "    \"Price [€/l]\" => Float64[]\n",
    ")\n",
    "\n",
    "# Adding rows to the DataFrame\n",
    "push!(df8, [\"B100\", 5, 516100])\n",
    "push!(df8, [\"B100\", 20, 419913])\n",
    "push!(df8, [\"B100\", 50, 227537])\n",
    "push!(df8, [\"B100\", 10, 484038])\n",
    "push!(df8, [\"B100\", 7, 503275])\n",
    "push!(df8, [\"B100\", 9, 490450])\n",
    "\n",
    "# Display the DataFrame\n",
    "df8"
   ]
  },
  {
   "cell_type": "markdown",
   "metadata": {},
   "source": [
    "f. Varied water demand\n",
    "\n",
    "To alter the need for water equally for each plant at the same time, the water demand was multiplied with a constant factor that was varied in a range between $0.5$ and $1.5$."
   ]
  },
  {
   "cell_type": "code",
   "execution_count": 61,
   "metadata": {},
   "outputs": [
    {
     "data": {
      "text/html": [
       "<div><div style = \"float: left;\"><span>6×5 DataFrame</span></div><div style = \"clear: both;\"></div></div><div class = \"data-frame\" style = \"overflow-x: scroll;\"><table class = \"data-frame\" style = \"margin-bottom: 6px;\"><thead><tr class = \"header\"><th class = \"rowNumber\" style = \"font-weight: bold; text-align: right;\">Row</th><th style = \"text-align: left;\">Scale factor</th><th style = \"text-align: left;\">Soybeans [ha]</th><th style = \"text-align: left;\">Sunflower seeds [ha]</th><th style = \"text-align: left;\">Cotton seeds [ha]</th><th style = \"text-align: left;\">Price [€/l]</th></tr><tr class = \"subheader headerLastRow\"><th class = \"rowNumber\" style = \"font-weight: bold; text-align: right;\"></th><th title = \"Float64\" style = \"text-align: left;\">Float64</th><th title = \"Float64\" style = \"text-align: left;\">Float64</th><th title = \"Int64\" style = \"text-align: left;\">Int64</th><th title = \"Float64\" style = \"text-align: left;\">Float64</th><th title = \"Float64\" style = \"text-align: left;\">Float64</th></tr></thead><tbody><tr><td class = \"rowNumber\" style = \"font-weight: bold; text-align: right;\">1</td><td style = \"text-align: right;\">1.0</td><td style = \"text-align: right;\">850.0</td><td style = \"text-align: right;\">0</td><td style = \"text-align: right;\">750.0</td><td style = \"text-align: right;\">548163.0</td></tr><tr><td class = \"rowNumber\" style = \"font-weight: bold; text-align: right;\">2</td><td style = \"text-align: right;\">1.5</td><td style = \"text-align: right;\">433.33</td><td style = \"text-align: right;\">0</td><td style = \"text-align: right;\">1166.67</td><td style = \"text-align: right;\">119064.0</td></tr><tr><td class = \"rowNumber\" style = \"font-weight: bold; text-align: right;\">3</td><td style = \"text-align: right;\">0.5</td><td style = \"text-align: right;\">1600.0</td><td style = \"text-align: right;\">0</td><td style = \"text-align: right;\">0.0</td><td style = \"text-align: right;\">526089.0</td></tr><tr><td class = \"rowNumber\" style = \"font-weight: bold; text-align: right;\">4</td><td style = \"text-align: right;\">1.1</td><td style = \"text-align: right;\">736.36</td><td style = \"text-align: right;\">0</td><td style = \"text-align: right;\">863.63</td><td style = \"text-align: right;\">485051.0</td></tr><tr><td class = \"rowNumber\" style = \"font-weight: bold; text-align: right;\">5</td><td style = \"text-align: right;\">1.2</td><td style = \"text-align: right;\">641.66</td><td style = \"text-align: right;\">0</td><td style = \"text-align: right;\">958.33</td><td style = \"text-align: right;\">480551.0</td></tr><tr><td class = \"rowNumber\" style = \"font-weight: bold; text-align: right;\">6</td><td style = \"text-align: right;\">1.3</td><td style = \"text-align: right;\">561.5</td><td style = \"text-align: right;\">0</td><td style = \"text-align: right;\">1038.5</td><td style = \"text-align: right;\">476743.0</td></tr></tbody></table></div>"
      ],
      "text/latex": [
       "\\begin{tabular}{r|ccccc}\n",
       "\t& Scale factor & Soybeans [ha] & Sunflower seeds [ha] & Cotton seeds [ha] & Price [€/l]\\\\\n",
       "\t\\hline\n",
       "\t& Float64 & Float64 & Int64 & Float64 & Float64\\\\\n",
       "\t\\hline\n",
       "\t1 & 1.0 & 850.0 & 0 & 750.0 & 548163.0 \\\\\n",
       "\t2 & 1.5 & 433.33 & 0 & 1166.67 & 119064.0 \\\\\n",
       "\t3 & 0.5 & 1600.0 & 0 & 0.0 & 526089.0 \\\\\n",
       "\t4 & 1.1 & 736.36 & 0 & 863.63 & 485051.0 \\\\\n",
       "\t5 & 1.2 & 641.66 & 0 & 958.33 & 480551.0 \\\\\n",
       "\t6 & 1.3 & 561.5 & 0 & 1038.5 & 476743.0 \\\\\n",
       "\\end{tabular}\n"
      ],
      "text/plain": [
       "\u001b[1m6×5 DataFrame\u001b[0m\n",
       "\u001b[1m Row \u001b[0m│\u001b[1m Scale factor \u001b[0m\u001b[1m Soybeans [ha] \u001b[0m\u001b[1m Sunflower seeds [ha] \u001b[0m\u001b[1m Cotton seeds [ha] \u001b[0m\u001b[1m P\u001b[0m ⋯\n",
       "     │\u001b[90m Float64      \u001b[0m\u001b[90m Float64       \u001b[0m\u001b[90m Int64                \u001b[0m\u001b[90m Float64           \u001b[0m\u001b[90m F\u001b[0m ⋯\n",
       "─────┼──────────────────────────────────────────────────────────────────────────\n",
       "   1 │          1.0         850.0                      0             750.0     ⋯\n",
       "   2 │          1.5         433.33                     0            1166.67\n",
       "   3 │          0.5        1600.0                      0               0.0\n",
       "   4 │          1.1         736.36                     0             863.63\n",
       "   5 │          1.2         641.66                     0             958.33    ⋯\n",
       "   6 │          1.3         561.5                      0            1038.5\n",
       "\u001b[36m                                                                1 column omitted\u001b[0m"
      ]
     },
     "metadata": {},
     "output_type": "display_data"
    }
   ],
   "source": [
    "using DataFrames\n",
    "\n",
    "# Creating an empty DataFrame with quoted column names\n",
    "df9 = DataFrame(\n",
    "    \"Scale factor\" => Float64[],\n",
    "    \"Soybeans [ha]\" => Float64[],\n",
    "    \"Sunflower seeds [ha]\" => Int[],\n",
    "    \"Cotton seeds [ha]\" => Float64[],\n",
    "    \"Price [€/l]\" => Float64[]\n",
    ")\n",
    "\n",
    "# Adding rows to the DataFrame\n",
    "push!(df9, [1.0, 850, 0, 750, 548163])\n",
    "push!(df9, [1.5, 433.33, 0, 1166.67, 119064])\n",
    "push!(df9, [0.5, 1600, 0, 0, 526089])\n",
    "push!(df9, [1.1, 736.36, 0, 863.63, 485051])\n",
    "push!(df9, [1.2, 641.66, 0, 958.33, 480551])\n",
    "push!(df9, [1.3, 561.5, 0, 1038.5, 476743])\n",
    "\n",
    "# Display the DataFrame\n",
    "df9"
   ]
  },
  {
   "cell_type": "markdown",
   "metadata": {},
   "source": [
    "\n",
    "The conclusion that can be drawn from these alterations is that a change of about 10-20\\,\\% is needed to have larger changes for the soybean plantation.\n",
    "\n",
    "g. Altered formulas\n",
    "\n",
    "In this section, it is investigated how the optimal solution changes if the data of the problem is altered.\n",
    "\n",
    "Assume that the right-hand-sides of the constraints make a small increment/ reduction of one of the limiting resources. The optimal solution will change and therefore the profit is also affected. Hence, the shadow price of that value is this amount. The optimal solution will not change since an increase larger than a specified size in the value gives no further income.\n",
    "\n",
    "One way to compute the shadow price is to construct a dual problem of our income model (which is the primal problem) and in the linear programming dual, observe that the dual problem is in accordance with the Lagrangian duality theorem. \n",
    "\n",
    "The optimal dual solution is indeed the shadow price for the constraints. If a value on the right-hand side, $b_i$, changes, the optimal basis does not change. However, the optimal value will change exactly with the value $y^*_i$, where $y^*$ is the optimal solution of the dual problem. The formula for the reduced cost is $j^* = \\text{arg min}_{j \\subset N}{c_j - c_B^TB^{-1}}A_J$\n",
    "\n",
    "\n",
    "Furthermore, if the necessary condition for the basis remains optimal, then $B^{-1}(b +\\Delta b)$ is non-negative, which means the values remain within the feasible set of points.\n",
    "\n",
    "h. A more sustainable objective function\n",
    "\n",
    "There are multiple benefits of having sustainable biodiesel production. Some examples are\n",
    "\n",
    "    - a reduction in life-cycle greenhouse gases,\n",
    "    - reduction in hydrocarbon emissions.\n",
    "\n",
    " Therefore, conservation-oriented production methods (with no tillage, less water, and fertilizer consumption) with good crop selection are crucial for producing better biofuels. One reason is that using less water and more efficient ways to apply fertilizer together with no tillage and an efficient harvest reduces the net carbon emissions. Efficient ways of applying fertilizer are crucial because it reduces the outgassing of greenhouse gases that occur after fertilization. Therefore, it is necessary to take these methods into account in order to maximize the profit while paying attention to the emission of greenhouse gases.\n",
    "\n",
    "Another way of improving the model is to add a constraint limiting the volume of greenhouse gases that are released. To do this, data containing the volume of gases released during the process of producing biodiesel. To further build upon this thought, adding a penalty fee for the types of diesel containing more petrol would improve the model even further, but with the risk of a lowered profit. The objective function will therefore be on the following form\n",
    "\n",
    "$$\\text{max } z_{new} = \\sum_{i \\in I} (R_iP_{i,2}(1-P_{i,3}) - 1B_i)-1.5M - Y(\\sum_{i \\in I}(B_i) + M),$$\n",
    "\n",
    "where $Y$ is a penalty constant. \n",
    "\n",
    "The reasoning behind the new objective function is that petrol diesel and methanol contribute the most to greenhouse gas emissions. Therefore, by paying an extra fee that is proportional to the volume of gases emitted, the production can be penalized for the more gases it releases.\n",
    "\n",
    "Alternatively, change the objective function to minimize the release of greenhouse gases and change the profit to only be a constraint."
   ]
  }
 ],
 "metadata": {
  "kernelspec": {
   "display_name": "Julia 1.9.0",
   "language": "julia",
   "name": "julia-1.9"
  },
  "language_info": {
   "file_extension": ".jl",
   "mimetype": "application/julia",
   "name": "julia",
   "version": "1.9.0"
  }
 },
 "nbformat": 4,
 "nbformat_minor": 2
}
